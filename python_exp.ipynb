{
 "cells": [
  {
   "cell_type": "code",
   "execution_count": 3,
   "id": "29b46fa7",
   "metadata": {},
   "outputs": [],
   "source": [
    "import pandas as pd\n",
    "import numpy as np\n",
    "import os"
   ]
  },
  {
   "cell_type": "code",
   "execution_count": 20,
   "id": "9c73fbe6",
   "metadata": {},
   "outputs": [],
   "source": [
    "df = pd.read_csv('table.csv')"
   ]
  },
  {
   "cell_type": "code",
   "execution_count": 21,
   "id": "1ac2347f",
   "metadata": {},
   "outputs": [
    {
     "data": {
      "text/html": [
       "<div>\n",
       "<style scoped>\n",
       "    .dataframe tbody tr th:only-of-type {\n",
       "        vertical-align: middle;\n",
       "    }\n",
       "\n",
       "    .dataframe tbody tr th {\n",
       "        vertical-align: top;\n",
       "    }\n",
       "\n",
       "    .dataframe thead th {\n",
       "        text-align: right;\n",
       "    }\n",
       "</style>\n",
       "<table border=\"1\" class=\"dataframe\">\n",
       "  <thead>\n",
       "    <tr style=\"text-align: right;\">\n",
       "      <th></th>\n",
       "      <th>AAPL</th>\n",
       "      <th>AMZN</th>\n",
       "      <th>FB</th>\n",
       "      <th>GOOGL</th>\n",
       "    </tr>\n",
       "  </thead>\n",
       "  <tbody>\n",
       "    <tr>\n",
       "      <th>AAPL</th>\n",
       "      <td>709.368986</td>\n",
       "      <td>4132.875531</td>\n",
       "      <td>611.646367</td>\n",
       "      <td>2729.032243</td>\n",
       "    </tr>\n",
       "    <tr>\n",
       "      <th>AMZN</th>\n",
       "      <td>4132.875531</td>\n",
       "      <td>27881.472593</td>\n",
       "      <td>3804.237166</td>\n",
       "      <td>16743.889676</td>\n",
       "    </tr>\n",
       "    <tr>\n",
       "      <th>FB</th>\n",
       "      <td>611.646367</td>\n",
       "      <td>3804.237166</td>\n",
       "      <td>579.153079</td>\n",
       "      <td>2430.567670</td>\n",
       "    </tr>\n",
       "    <tr>\n",
       "      <th>GOOGL</th>\n",
       "      <td>2729.032243</td>\n",
       "      <td>16743.889676</td>\n",
       "      <td>2430.567670</td>\n",
       "      <td>11274.020461</td>\n",
       "    </tr>\n",
       "  </tbody>\n",
       "</table>\n",
       "</div>"
      ],
      "text/plain": [
       "              AAPL          AMZN           FB         GOOGL\n",
       "AAPL    709.368986   4132.875531   611.646367   2729.032243\n",
       "AMZN   4132.875531  27881.472593  3804.237166  16743.889676\n",
       "FB      611.646367   3804.237166   579.153079   2430.567670\n",
       "GOOGL  2729.032243  16743.889676  2430.567670  11274.020461"
      ]
     },
     "execution_count": 21,
     "metadata": {},
     "output_type": "execute_result"
    }
   ],
   "source": [
    "df.cov()"
   ]
  },
  {
   "cell_type": "code",
   "execution_count": 22,
   "id": "54c00759",
   "metadata": {},
   "outputs": [],
   "source": [
    "df = df.fillna(df.mean())"
   ]
  },
  {
   "cell_type": "code",
   "execution_count": 26,
   "id": "d273db8b",
   "metadata": {},
   "outputs": [],
   "source": [
    "df.to_csv('table_filtered.csv', index = False)"
   ]
  },
  {
   "cell_type": "code",
   "execution_count": null,
   "id": "337795c5",
   "metadata": {},
   "outputs": [],
   "source": []
  },
  {
   "cell_type": "code",
   "execution_count": 25,
   "id": "f0d13f4a",
   "metadata": {},
   "outputs": [
    {
     "data": {
      "text/plain": [
       "array([[  707.9530796,  2723.5850732],\n",
       "       [ 2723.5850732, 11274.0204608]])"
      ]
     },
     "execution_count": 25,
     "metadata": {},
     "output_type": "execute_result"
    }
   ],
   "source": [
    "np.cov(df['AAPL'],df['GOOGL'])"
   ]
  },
  {
   "cell_type": "code",
   "execution_count": 27,
   "id": "a537f746",
   "metadata": {},
   "outputs": [
    {
     "name": "stdout",
     "output_type": "stream",
     "text": [
      "Collecting PyPortfolioOpt\n",
      "  Downloading PyPortfolioOpt-1.5.1-py3-none-any.whl (61 kB)\n",
      "\u001b[K     |████████████████████████████████| 61 kB 967 kB/s eta 0:00:01\n",
      "\u001b[?25hCollecting cvxpy<2.0.0,>=1.1.10\n",
      "  Downloading cvxpy-1.1.18-cp37-cp37m-macosx_10_9_x86_64.whl (848 kB)\n",
      "\u001b[K     |████████████████████████████████| 848 kB 1.5 MB/s eta 0:00:01\n",
      "\u001b[?25hRequirement already satisfied: scipy<2.0,>=1.3 in /Users/rahulkanojia/miniconda3/envs/env/lib/python3.7/site-packages (from PyPortfolioOpt) (1.7.2)\n",
      "Requirement already satisfied: numpy<2.0,>=1.12 in /Users/rahulkanojia/miniconda3/envs/env/lib/python3.7/site-packages (from PyPortfolioOpt) (1.21.2)\n",
      "Requirement already satisfied: pandas>=0.19 in /Users/rahulkanojia/miniconda3/envs/env/lib/python3.7/site-packages (from PyPortfolioOpt) (1.3.3)\n",
      "Collecting osqp>=0.4.1\n",
      "  Downloading osqp-0.6.2.post5-cp37-cp37m-macosx_10_9_x86_64.whl (249 kB)\n",
      "\u001b[K     |████████████████████████████████| 249 kB 3.1 MB/s eta 0:00:01\n",
      "\u001b[?25hCollecting ecos>=2\n",
      "  Downloading ecos-2.0.10-cp37-cp37m-macosx_10_9_x86_64.whl (88 kB)\n",
      "\u001b[K     |████████████████████████████████| 88 kB 2.5 MB/s eta 0:00:01\n",
      "\u001b[?25hCollecting scs>=1.1.6\n",
      "  Downloading scs-3.1.0-cp37-cp37m-macosx_10_9_x86_64.whl (11.4 MB)\n",
      "\u001b[K     |████████████████████████████████| 11.4 MB 4.8 MB/s eta 0:00:01\n",
      "\u001b[?25hCollecting qdldl\n",
      "  Downloading qdldl-0.1.5.post0-cp37-cp37m-macosx_10_9_x86_64.whl (86 kB)\n",
      "\u001b[K     |████████████████████████████████| 86 kB 3.9 MB/s eta 0:00:01\n",
      "\u001b[?25hRequirement already satisfied: pytz>=2017.3 in /Users/rahulkanojia/miniconda3/envs/env/lib/python3.7/site-packages (from pandas>=0.19->PyPortfolioOpt) (2021.1)\n",
      "Requirement already satisfied: python-dateutil>=2.7.3 in /Users/rahulkanojia/miniconda3/envs/env/lib/python3.7/site-packages (from pandas>=0.19->PyPortfolioOpt) (2.8.2)\n",
      "Requirement already satisfied: six>=1.5 in /Users/rahulkanojia/miniconda3/envs/env/lib/python3.7/site-packages (from python-dateutil>=2.7.3->pandas>=0.19->PyPortfolioOpt) (1.16.0)\n",
      "Installing collected packages: qdldl, scs, osqp, ecos, cvxpy, PyPortfolioOpt\n",
      "Successfully installed PyPortfolioOpt-1.5.1 cvxpy-1.1.18 ecos-2.0.10 osqp-0.6.2.post5 qdldl-0.1.5.post0 scs-3.1.0\n"
     ]
    }
   ],
   "source": [
    "!pip install PyPortfolioOpt"
   ]
  },
  {
   "cell_type": "code",
   "execution_count": 28,
   "id": "91daea0e",
   "metadata": {},
   "outputs": [
    {
     "name": "stdout",
     "output_type": "stream",
     "text": [
      "--2022-02-12 02:10:39--  https://raw.githubusercontent.com/robertmartin8/PyPortfolioOpt/master/tests/resources/stock_prices.csv\n",
      "Resolving raw.githubusercontent.com (raw.githubusercontent.com)... 2606:50c0:8003::154, 2606:50c0:8002::154, 2606:50c0:8001::154, ...\n",
      "Connecting to raw.githubusercontent.com (raw.githubusercontent.com)|2606:50c0:8003::154|:443... connected.\n",
      "HTTP request sent, awaiting response... 200 OK\n",
      "Length: 1108625 (1.1M) [text/plain]\n",
      "Saving to: ‘stock_prices.csv’\n",
      "\n",
      "stock_prices.csv    100%[===================>]   1.06M   954KB/s    in 1.1s    \n",
      "\n",
      "2022-02-12 02:10:41 (954 KB/s) - ‘stock_prices.csv’ saved [1108625/1108625]\n",
      "\n"
     ]
    }
   ],
   "source": [
    "!wget https://raw.githubusercontent.com/robertmartin8/PyPortfolioOpt/master/tests/resources/stock_prices.csv"
   ]
  },
  {
   "cell_type": "code",
   "execution_count": 29,
   "id": "c831ce16",
   "metadata": {},
   "outputs": [
    {
     "name": "stdout",
     "output_type": "stream",
     "text": [
      "OrderedDict([('GOOG', 0.03835), ('AAPL', 0.0689), ('FB', 0.20603), ('BABA', 0.07315), ('AMZN', 0.04033), ('GE', 0.0), ('AMD', 0.0), ('WMT', 0.0), ('BAC', 0.0), ('GM', 0.0), ('T', 0.0), ('UAA', 0.0), ('SHLD', 0.0), ('XOM', 0.0), ('RRC', 0.0), ('BBY', 0.01324), ('MA', 0.35349), ('PFE', 0.1957), ('JPM', 0.0), ('SBUX', 0.01082)])\n",
      "Expected annual return: 30.5%\n",
      "Annual volatility: 22.2%\n",
      "Sharpe Ratio: 1.28\n"
     ]
    },
    {
     "data": {
      "text/plain": [
       "(0.3047768672819918, 0.22165566922402968, 1.2847714127003216)"
      ]
     },
     "execution_count": 29,
     "metadata": {},
     "output_type": "execute_result"
    }
   ],
   "source": [
    "import pandas as pd\n",
    "from pypfopt import EfficientFrontier\n",
    "from pypfopt import risk_models\n",
    "from pypfopt import expected_returns\n",
    "\n",
    "# Read in price data\n",
    "df = pd.read_csv(\"stock_prices.csv\", parse_dates=True, index_col=\"date\")\n",
    "\n",
    "# Calculate expected returns and sample covariance\n",
    "mu = expected_returns.mean_historical_return(df)\n",
    "S = risk_models.sample_cov(df)\n",
    "\n",
    "# Optimize for maximal Sharpe ratio\n",
    "ef = EfficientFrontier(mu, S)\n",
    "raw_weights = ef.max_sharpe()\n",
    "cleaned_weights = ef.clean_weights()\n",
    "ef.save_weights_to_file(\"weights.csv\")  # saves to file\n",
    "print(cleaned_weights)\n",
    "ef.portfolio_performance(verbose=True)"
   ]
  },
  {
   "cell_type": "code",
   "execution_count": null,
   "id": "95fe2d40",
   "metadata": {},
   "outputs": [],
   "source": []
  }
 ],
 "metadata": {
  "kernelspec": {
   "display_name": "Python 3 (ipykernel)",
   "language": "python",
   "name": "python3"
  },
  "language_info": {
   "codemirror_mode": {
    "name": "ipython",
    "version": 3
   },
   "file_extension": ".py",
   "mimetype": "text/x-python",
   "name": "python",
   "nbconvert_exporter": "python",
   "pygments_lexer": "ipython3",
   "version": "3.7.11"
  }
 },
 "nbformat": 4,
 "nbformat_minor": 5
}
