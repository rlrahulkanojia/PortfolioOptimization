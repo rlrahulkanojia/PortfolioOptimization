{
 "cells": [
  {
   "cell_type": "code",
   "execution_count": 2,
   "id": "3c3fe8cd",
   "metadata": {},
   "outputs": [
    {
     "ename": "ERROR",
     "evalue": "error loading plugin \"/Users/rahulkanojia/go/src/gomacro.imports/gonum.org/v1/gonum/mat/mat.so\": plugin.Open(\"/Users/rahulkanojia/go/src/gomacro.imports/gonum.org/v1/gonum/mat/mat.so\"): plugin was built with a different version of package gonum.org/v1/gonum/blas (previous failure)",
     "output_type": "error",
     "traceback": [
      "error loading plugin \"/Users/rahulkanojia/go/src/gomacro.imports/gonum.org/v1/gonum/mat/mat.so\": plugin.Open(\"/Users/rahulkanojia/go/src/gomacro.imports/gonum.org/v1/gonum/mat/mat.so\"): plugin was built with a different version of package gonum.org/v1/gonum/blas (previous failure)"
     ]
    }
   ],
   "source": [
    "package main\n",
    "\n",
    "import (\n",
    "    \"fmt\"\n",
    "    \"log\"\n",
    "    \"math/rand\"\n",
    "    \"os\"\n",
    "\n",
    "    \"github.com/go-gota/gota/dataframe\"\n",
    "    \"gonum.org/v1/gonum/mat\"\n",
    "    \"gonum.org/v1/plot\"\n",
    ")"
   ]
  },
  {
   "cell_type": "code",
   "execution_count": null,
   "id": "c0e2cadd",
   "metadata": {
    "code_folding": [
     1
    ]
   },
   "outputs": [],
   "source": [
    "func read_csv(PATH string) dataframe.DataFrame {\n",
    "    file, err := os.Open(PATH)\n",
    "    if err != nil {\n",
    "        log.Fatal(err)\n",
    "    }\n",
    "    df := dataframe.ReadCSV(file)\n",
    "    // fmt.Println(df)\n",
    "    return df\n",
    "}"
   ]
  },
  {
   "cell_type": "code",
   "execution_count": null,
   "id": "8b3d422f",
   "metadata": {},
   "outputs": [],
   "source": [
    "PATH := \"table.csv\"\n",
    "DF := read_csv(PATH)\n",
    "fmt.Println(DF.Dims())\n",
    "nil"
   ]
  },
  {
   "cell_type": "code",
   "execution_count": null,
   "id": "d16f3746",
   "metadata": {},
   "outputs": [],
   "source": []
  }
 ],
 "metadata": {
  "kernelspec": {
   "display_name": "Go",
   "language": "go",
   "name": "gophernotes"
  },
  "language_info": {
   "codemirror_mode": "",
   "file_extension": ".go",
   "mimetype": "",
   "name": "go",
   "nbconvert_exporter": "",
   "pygments_lexer": "",
   "version": "go1.17.6"
  }
 },
 "nbformat": 4,
 "nbformat_minor": 5
}
