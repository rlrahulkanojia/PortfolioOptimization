{
 "cells": [
  {
   "cell_type": "code",
   "execution_count": 11,
   "id": "3c3fe8cd",
   "metadata": {},
   "outputs": [
    {
     "ename": "ERROR",
     "evalue": "error loading package \"qframe\" metadata: error executing \"/usr/local/go/bin/go get qframe\" in directory \"/Users/rahulkanojia/go/src/gomacro.imports/qframe\": exit status 1",
     "output_type": "error",
     "traceback": [
      "error loading package \"qframe\" metadata: error executing \"/usr/local/go/bin/go get qframe\" in directory \"/Users/rahulkanojia/go/src/gomacro.imports/qframe\": exit status 1"
     ]
    }
   ],
   "source": [
    "package main\n",
    "\n",
    "import (\n",
    "\t\"fmt\"\n",
    "\t\"log\"\n",
    "\t\"math/rand\"\n",
    "\t\"os\"\n",
    "\n",
    "\t\"github.com/go-gota/gota/dataframe\"\n",
    "\t\"gonum.org/v1/gonum/mat\"\n",
    ")"
   ]
  },
  {
   "cell_type": "code",
   "execution_count": 13,
   "id": "a62a06a6",
   "metadata": {},
   "outputs": [
    {
     "ename": "ERROR",
     "evalue": "repl.go:1:7: function must be invoked in go statement",
     "output_type": "error",
     "traceback": [
      "repl.go:1:7: function must be invoked in go statement"
     ]
    }
   ],
   "source": [
    "go get github.com/tobgu/qframe"
   ]
  },
  {
   "cell_type": "code",
   "execution_count": 9,
   "id": "99e5aa93",
   "metadata": {},
   "outputs": [],
   "source": [
    "// fmt.Println(\"hello world\")"
   ]
  },
  {
   "cell_type": "code",
   "execution_count": 10,
   "id": "599094c9",
   "metadata": {},
   "outputs": [],
   "source": [
    "csvfile, err := os.Open(\"table.csv\")"
   ]
  },
  {
   "cell_type": "code",
   "execution_count": 1,
   "id": "2bd9e120",
   "metadata": {},
   "outputs": [
    {
     "ename": "ERROR",
     "evalue": "repl.go:1:17: undefined \"os\" in os.Open <*ast.SelectorExpr>",
     "output_type": "error",
     "traceback": [
      "repl.go:1:17: undefined \"os\" in os.Open <*ast.SelectorExpr>"
     ]
    }
   ],
   "source": [
    "\n",
    "if err != nil {\n",
    "    log.Fatal(err)\n",
    "}\n",
    "f := qframe.ReadCSV(csvfile)"
   ]
  },
  {
   "cell_type": "code",
   "execution_count": 2,
   "id": "bd6b70dc",
   "metadata": {},
   "outputs": [
    {
     "ename": "ERROR",
     "evalue": "repl.go:1:1: undefined identifier: dataframe",
     "output_type": "error",
     "traceback": [
      "repl.go:1:1: undefined identifier: dataframe"
     ]
    }
   ],
   "source": [
    "dataframe.ReadCSV(ioContent,\n",
    "    dataframe.WithDelimiter(';'),\n",
    "    dataframe.HasHeader(true),\n",
    "    // etc.\n",
    ")"
   ]
  },
  {
   "cell_type": "code",
   "execution_count": null,
   "id": "5d35f80f",
   "metadata": {},
   "outputs": [],
   "source": []
  },
  {
   "cell_type": "code",
   "execution_count": null,
   "id": "313c133d",
   "metadata": {},
   "outputs": [],
   "source": []
  },
  {
   "cell_type": "code",
   "execution_count": null,
   "id": "ed019838",
   "metadata": {},
   "outputs": [],
   "source": []
  },
  {
   "cell_type": "code",
   "execution_count": null,
   "id": "8b3d422f",
   "metadata": {},
   "outputs": [],
   "source": []
  }
 ],
 "metadata": {
  "kernelspec": {
   "display_name": "Go",
   "language": "go",
   "name": "gophernotes"
  },
  "language_info": {
   "codemirror_mode": "",
   "file_extension": ".go",
   "mimetype": "",
   "name": "go",
   "nbconvert_exporter": "",
   "pygments_lexer": "",
   "version": "go1.17.6"
  }
 },
 "nbformat": 4,
 "nbformat_minor": 5
}
